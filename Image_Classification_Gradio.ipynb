{
  "nbformat": 4,
  "nbformat_minor": 0,
  "metadata": {
    "colab": {
      "name": "Image_Classification_Gradio",
      "provenance": [],
      "authorship_tag": "ABX9TyPlVs4WJJaUp6bAlYBTfyhb",
      "include_colab_link": true
    },
    "kernelspec": {
      "name": "python3",
      "display_name": "Python 3"
    },
    "language_info": {
      "name": "python"
    }
  },
  "cells": [
    {
      "cell_type": "markdown",
      "metadata": {
        "id": "view-in-github",
        "colab_type": "text"
      },
      "source": [
        "<a href=\"https://colab.research.google.com/github/Sagnik220/Image-Classification-GRADIO/blob/main/Image_Classification_Gradio.ipynb\" target=\"_parent\"><img src=\"https://colab.research.google.com/assets/colab-badge.svg\" alt=\"Open In Colab\"/></a>"
      ]
    },
    {
      "cell_type": "code",
      "metadata": {
        "colab": {
          "base_uri": "https://localhost:8080/",
          "height": 655
        },
        "id": "83O_YvGCvOdm",
        "outputId": "6cbf8725-a2a5-4ee0-c634-be96f829a3f0"
      },
      "source": [
        "import gradio as gr\n",
        "import tensorflow as tf\n",
        "import numpy as np\n",
        "import requests\n",
        "\n",
        "inception_net = tf.keras.applications.InceptionV3() # load the model\n",
        "\n",
        "# Download human-readable labels for ImageNet.\n",
        "response = requests.get(\"https://git.io/JJkYN\")\n",
        "labels = response.text.split(\"\\n\")\n",
        "\n",
        "def classify_image(inp):\n",
        "  inp = inp.reshape((-1, 299, 299, 3))\n",
        "  inp = tf.keras.applications.inception_v3.preprocess_input(inp)\n",
        "  prediction = inception_net.predict(inp).flatten()\n",
        "  return {labels[i]: float(prediction[i]) for i in range(1000)}\n",
        "\n",
        "image = gr.inputs.Image(shape=(299, 299))\n",
        "label = gr.outputs.Label(num_top_classes=3)\n",
        "\n",
        "gr.Interface(fn=classify_image, inputs=image, outputs=label, capture_session=True).launch()"
      ],
      "execution_count": 5,
      "outputs": [
        {
          "output_type": "stream",
          "text": [
            "Colab notebook detected. To show errors in colab notebook, set `debug=True` in `launch()`\n",
            "This share link will expire in 24 hours. If you need a permanent link, visit: https://gradio.app/introducing-hosted (NEW!)\n",
            "Running on External URL: https://34137.gradio.app\n",
            "Interface loading below...\n"
          ],
          "name": "stdout"
        },
        {
          "output_type": "display_data",
          "data": {
            "text/html": [
              "\n",
              "        <iframe\n",
              "            width=\"1000\"\n",
              "            height=\"500\"\n",
              "            src=\"https://34137.gradio.app\"\n",
              "            frameborder=\"0\"\n",
              "            allowfullscreen\n",
              "        ></iframe>\n",
              "        "
            ],
            "text/plain": [
              "<IPython.lib.display.IFrame at 0x7f386e3940d0>"
            ]
          },
          "metadata": {
            "tags": []
          }
        },
        {
          "output_type": "stream",
          "text": [
            "Tip: Add interpretation to your model by simply adding `interpretation=\"default\"` to `Interface()`\n"
          ],
          "name": "stdout"
        },
        {
          "output_type": "execute_result",
          "data": {
            "text/plain": [
              "(<Flask 'gradio.networking'>,\n",
              " 'http://127.0.0.1:7863/',\n",
              " 'https://34137.gradio.app')"
            ]
          },
          "metadata": {
            "tags": []
          },
          "execution_count": 5
        }
      ]
    },
    {
      "cell_type": "code",
      "metadata": {
        "colab": {
          "base_uri": "https://localhost:8080/",
          "height": 655
        },
        "id": "Gg5QjROLxmVp",
        "outputId": "78d8ff6e-617c-4d38-9157-85ec5506b6d8"
      },
      "source": [
        "import gradio as gr\n",
        "import torch\n",
        "from torchvision import transforms\n",
        "import requests\n",
        "from PIL import Image\n",
        "\n",
        "model = torch.hub.load('pytorch/vision:v0.6.0', 'resnet18', pretrained=True).eval()\n",
        "\n",
        "# Download human-readable labels for ImageNet.\n",
        "response = requests.get(\"https://git.io/JJkYN\")\n",
        "labels = response.text.split(\"\\n\")\n",
        "\n",
        "def predict(inp):\n",
        "  inp = Image.fromarray(inp.astype('uint8'), 'RGB')\n",
        "  inp = transforms.ToTensor()(inp).unsqueeze(0)\n",
        "  with torch.no_grad():\n",
        "    prediction = torch.nn.functional.softmax(model(inp)[0], dim=0)\n",
        "  return {labels[i]: float(prediction[i]) for i in range(1000)}\n",
        "\n",
        "inputs = gr.inputs.Image()\n",
        "outputs = gr.outputs.Label(num_top_classes=3)\n",
        "gr.Interface(fn=predict, inputs=inputs, outputs=outputs).launch()"
      ],
      "execution_count": 6,
      "outputs": [
        {
          "output_type": "stream",
          "text": [
            "Using cache found in /root/.cache/torch/hub/pytorch_vision_v0.6.0\n"
          ],
          "name": "stderr"
        },
        {
          "output_type": "stream",
          "text": [
            "Colab notebook detected. To show errors in colab notebook, set `debug=True` in `launch()`\n",
            "This share link will expire in 24 hours. If you need a permanent link, visit: https://gradio.app/introducing-hosted (NEW!)\n",
            "Running on External URL: https://35613.gradio.app\n",
            "Interface loading below...\n"
          ],
          "name": "stdout"
        },
        {
          "output_type": "display_data",
          "data": {
            "text/html": [
              "\n",
              "        <iframe\n",
              "            width=\"1000\"\n",
              "            height=\"500\"\n",
              "            src=\"https://35613.gradio.app\"\n",
              "            frameborder=\"0\"\n",
              "            allowfullscreen\n",
              "        ></iframe>\n",
              "        "
            ],
            "text/plain": [
              "<IPython.lib.display.IFrame at 0x7f386b543210>"
            ]
          },
          "metadata": {
            "tags": []
          }
        },
        {
          "output_type": "execute_result",
          "data": {
            "text/plain": [
              "(<Flask 'gradio.networking'>,\n",
              " 'http://127.0.0.1:7864/',\n",
              " 'https://35613.gradio.app')"
            ]
          },
          "metadata": {
            "tags": []
          },
          "execution_count": 6
        }
      ]
    }
  ]
}